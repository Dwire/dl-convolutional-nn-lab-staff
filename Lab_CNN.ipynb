{
 "cells": [
  {
   "cell_type": "markdown",
   "metadata": {},
   "source": [
    "# Using a CNN on our santa example."
   ]
  },
  {
   "cell_type": "markdown",
   "metadata": {},
   "source": [
    "## 1. Properly store your images"
   ]
  },
  {
   "cell_type": "markdown",
   "metadata": {},
   "source": [
    "When you're analyzing your image data, file management is important. We will be using the santa images again, but this time, they are just stored in two folders: `santa` and `not_santa`, under. We want to work with a `train`, `validation` and `test` data set now, as we know by now that this is the best way to go. "
   ]
  },
  {
   "cell_type": "markdown",
   "metadata": {},
   "source": [
    "Let's import libraries `os` and `shutil`, as we'll need them to create the new folders and move the new files in there."
   ]
  },
  {
   "cell_type": "code",
   "execution_count": 1,
   "metadata": {},
   "outputs": [],
   "source": [
    "import os, shutil"
   ]
  },
  {
   "cell_type": "markdown",
   "metadata": {},
   "source": [
    "Create three objects representing the existing directories 'data/santa/' as `data_santa_dir` and 'data/not_santa/' as `data_not_santa_dir`. We will create a new directory 'split/' as `new_dir`, where we will split the data set in three groups (or three subdirectories) 'train', 'test' and 'validation', each containing `santa` and `not_santa` subfolders. The final desired structure is represented below:"
   ]
  },
  {
   "cell_type": "markdown",
   "metadata": {},
   "source": [
    "![title](folder_structure.png)"
   ]
  },
  {
   "cell_type": "code",
   "execution_count": 2,
   "metadata": {},
   "outputs": [],
   "source": [
    "data_santa_dir = 'data/santa/'\n",
    "data_not_santa_dir = 'data/not_santa/'\n",
    "new_dir = 'split/'"
   ]
  },
  {
   "cell_type": "markdown",
   "metadata": {},
   "source": [
    "You can use `os.listdir()` to create an object that stores all the relevant image names. "
   ]
  },
  {
   "cell_type": "code",
   "execution_count": 3,
   "metadata": {},
   "outputs": [],
   "source": [
    "imgs_santa = [file for file in os.listdir(data_santa_dir) if file.endswith('.jpg')]"
   ]
  },
  {
   "cell_type": "code",
   "execution_count": 4,
   "metadata": {},
   "outputs": [
    {
     "data": {
      "text/plain": [
       "['00000000.jpg',\n",
       " '00000001.jpg',\n",
       " '00000003.jpg',\n",
       " '00000004.jpg',\n",
       " '00000005.jpg',\n",
       " '00000006.jpg',\n",
       " '00000007.jpg',\n",
       " '00000008.jpg',\n",
       " '00000009.jpg',\n",
       " '00000010.jpg']"
      ]
     },
     "execution_count": 4,
     "metadata": {},
     "output_type": "execute_result"
    }
   ],
   "source": [
    "imgs_santa[0:10]"
   ]
  },
  {
   "cell_type": "markdown",
   "metadata": {},
   "source": [
    "Let's see how many images there are in the 'santa' directory."
   ]
  },
  {
   "cell_type": "code",
   "execution_count": 5,
   "metadata": {},
   "outputs": [
    {
     "name": "stdout",
     "output_type": "stream",
     "text": [
      "There are 461 santa images\n"
     ]
    }
   ],
   "source": [
    "print('There are',len(imgs_santa), 'santa images')"
   ]
  },
  {
   "cell_type": "markdown",
   "metadata": {},
   "source": [
    "Now, repeat this for the 'not_santa' directory"
   ]
  },
  {
   "cell_type": "code",
   "execution_count": 6,
   "metadata": {},
   "outputs": [],
   "source": [
    "imgs_not_santa = [file for file in os.listdir(data_not_santa_dir) if file.endswith('.jpg')]"
   ]
  },
  {
   "cell_type": "code",
   "execution_count": 7,
   "metadata": {},
   "outputs": [
    {
     "name": "stdout",
     "output_type": "stream",
     "text": [
      "There are 461 images without santa\n"
     ]
    }
   ],
   "source": [
    "print('There are', len(imgs_not_santa), 'images without santa')"
   ]
  },
  {
   "cell_type": "markdown",
   "metadata": {},
   "source": [
    "Create all the folders and subfolder in order to get the structure represented above. You can use `os.path.join` to create strings that will be used later on to generate new directories."
   ]
  },
  {
   "cell_type": "code",
   "execution_count": 8,
   "metadata": {},
   "outputs": [],
   "source": [
    "os.mkdir(new_dir)"
   ]
  },
  {
   "cell_type": "code",
   "execution_count": 10,
   "metadata": {},
   "outputs": [],
   "source": [
    "train_folder = os.path.join(new_dir, 'train')\n",
    "train_santa = os.path.join(train_folder, 'santa')\n",
    "train_not_santa = os.path.join(train_folder, 'not_santa')\n",
    "\n",
    "test_folder = os.path.join(new_dir, 'test')\n",
    "test_santa = os.path.join(test_folder, 'santa')\n",
    "test_not_santa = os.path.join(test_folder, 'not_santa')\n",
    "\n",
    "val_folder = os.path.join(new_dir, 'validation')\n",
    "val_santa = os.path.join(val_folder, 'santa')\n",
    "val_not_santa = os.path.join(val_folder, 'not_santa')"
   ]
  },
  {
   "cell_type": "code",
   "execution_count": 11,
   "metadata": {},
   "outputs": [
    {
     "data": {
      "text/plain": [
       "'split/train/santa'"
      ]
     },
     "execution_count": 11,
     "metadata": {},
     "output_type": "execute_result"
    }
   ],
   "source": [
    "train_santa"
   ]
  },
  {
   "cell_type": "markdown",
   "metadata": {},
   "source": [
    "Now use all the path strings you created to make new directories. You can use `os.mkdir()` to do this. Go have a look at your directory and see if this worked!"
   ]
  },
  {
   "cell_type": "code",
   "execution_count": 12,
   "metadata": {},
   "outputs": [],
   "source": [
    "os.mkdir(test_folder)\n",
    "os.mkdir(test_santa)\n",
    "os.mkdir(test_not_santa)\n",
    "\n",
    "os.mkdir(train_folder)\n",
    "os.mkdir(train_santa)\n",
    "os.mkdir(train_not_santa)\n",
    "\n",
    "os.mkdir(val_folder)\n",
    "os.mkdir(val_santa)\n",
    "os.mkdir(val_not_santa)"
   ]
  },
  {
   "cell_type": "markdown",
   "metadata": {},
   "source": [
    "Copy the Santa images in the three santa subfolders. Let's put the first 271 images in the training set, the next 100 images in the validation set and the final 90 images in the test set."
   ]
  },
  {
   "cell_type": "code",
   "execution_count": 13,
   "metadata": {},
   "outputs": [],
   "source": [
    "# train santa\n",
    "imgs = imgs_santa[:271]\n",
    "for img in imgs:\n",
    "    origin = os.path.join(data_santa_dir, img)\n",
    "    destination = os.path.join(train_santa, img)\n",
    "    shutil.copyfile(origin, destination)"
   ]
  },
  {
   "cell_type": "code",
   "execution_count": 14,
   "metadata": {},
   "outputs": [],
   "source": [
    "# validation santa\n",
    "imgs = imgs_santa[271:371]\n",
    "for img in imgs:\n",
    "    origin = os.path.join(data_santa_dir, img)\n",
    "    destination = os.path.join(val_santa, img)\n",
    "    shutil.copyfile(origin, destination)"
   ]
  },
  {
   "cell_type": "code",
   "execution_count": 15,
   "metadata": {},
   "outputs": [],
   "source": [
    "# test santa\n",
    "imgs = imgs_santa[371:]\n",
    "for img in imgs:\n",
    "    origin = os.path.join(data_santa_dir, img)\n",
    "    destination = os.path.join(test_santa, img)\n",
    "    shutil.copyfile(origin, destination)"
   ]
  },
  {
   "cell_type": "markdown",
   "metadata": {},
   "source": [
    "Now, repeat all this for the 'not_santa' images!"
   ]
  },
  {
   "cell_type": "code",
   "execution_count": 16,
   "metadata": {},
   "outputs": [],
   "source": [
    "# train not_santa\n",
    "imgs = imgs_not_santa[:271]\n",
    "for img in imgs:\n",
    "    origin = os.path.join(data_not_santa_dir, img)\n",
    "    destination = os.path.join(train_not_santa, img)\n",
    "    shutil.copyfile(origin, destination)\n",
    "# validation not_santa\n",
    "imgs = imgs_not_santa[271:371]\n",
    "for img in imgs:\n",
    "    origin = os.path.join(data_not_santa_dir, img)\n",
    "    destination = os.path.join(val_not_santa, img)\n",
    "    shutil.copyfile(origin, destination)\n",
    "# test not_santa\n",
    "imgs = imgs_not_santa[371:]\n",
    "for img in imgs:\n",
    "    origin = os.path.join(data_not_santa_dir, img)\n",
    "    destination = os.path.join(test_not_santa, img)\n",
    "    shutil.copyfile(origin, destination)"
   ]
  },
  {
   "cell_type": "markdown",
   "metadata": {},
   "source": [
    "Let's print out how many images we have in each directory so we know for sure our numbers are right!"
   ]
  },
  {
   "cell_type": "code",
   "execution_count": 17,
   "metadata": {},
   "outputs": [
    {
     "name": "stdout",
     "output_type": "stream",
     "text": [
      "There are 271 santa images in the training set\n"
     ]
    }
   ],
   "source": [
    "print('There are', len(os.listdir(train_santa)), 'santa images in the training set')"
   ]
  },
  {
   "cell_type": "code",
   "execution_count": 18,
   "metadata": {},
   "outputs": [
    {
     "name": "stdout",
     "output_type": "stream",
     "text": [
      "There are 100 santa images in the validation set\n"
     ]
    }
   ],
   "source": [
    "print('There are', len(os.listdir(val_santa)), 'santa images in the validation set')"
   ]
  },
  {
   "cell_type": "code",
   "execution_count": 19,
   "metadata": {},
   "outputs": [
    {
     "name": "stdout",
     "output_type": "stream",
     "text": [
      "There are 90 santa images in the test set\n"
     ]
    }
   ],
   "source": [
    "print('There are', len(os.listdir(test_santa)), 'santa images in the test set')"
   ]
  },
  {
   "cell_type": "code",
   "execution_count": 20,
   "metadata": {},
   "outputs": [
    {
     "name": "stdout",
     "output_type": "stream",
     "text": [
      "There are 271 images without santa in the train set\n"
     ]
    }
   ],
   "source": [
    "print('There are', len(os.listdir(train_not_santa)), 'images without santa in the train set')"
   ]
  },
  {
   "cell_type": "code",
   "execution_count": 21,
   "metadata": {},
   "outputs": [
    {
     "name": "stdout",
     "output_type": "stream",
     "text": [
      "There are 100 images without santa in the validation set\n"
     ]
    }
   ],
   "source": [
    "print('There are', len(os.listdir(val_not_santa)), 'images without santa in the validation set')"
   ]
  },
  {
   "cell_type": "code",
   "execution_count": 22,
   "metadata": {},
   "outputs": [
    {
     "name": "stdout",
     "output_type": "stream",
     "text": [
      "There are 90 images without santa in the test set\n"
     ]
    }
   ],
   "source": [
    "print('There are', len(os.listdir(test_not_santa)), 'images without santa in the test set')"
   ]
  },
  {
   "cell_type": "markdown",
   "metadata": {},
   "source": [
    "# 2. Use a densely connected network as a baseline."
   ]
  },
  {
   "cell_type": "markdown",
   "metadata": {},
   "source": [
    "Now that we've sorted our data, we can easily use Keras' module with image-processing tools. Let's import the necessary libraries below. "
   ]
  },
  {
   "cell_type": "code",
   "execution_count": 27,
   "metadata": {},
   "outputs": [],
   "source": [
    "import time\n",
    "import matplotlib.pyplot as plt\n",
    "import scipy\n",
    "import numpy as np\n",
    "from PIL import Image\n",
    "from scipy import ndimage\n",
    "from keras.preprocessing.image import ImageDataGenerator, array_to_img, img_to_array, load_img\n",
    "\n",
    "np.random.seed(123)"
   ]
  },
  {
   "cell_type": "code",
   "execution_count": 28,
   "metadata": {},
   "outputs": [
    {
     "name": "stdout",
     "output_type": "stream",
     "text": [
      "Found 180 images belonging to 2 classes.\n",
      "Found 200 images belonging to 2 classes.\n",
      "Found 542 images belonging to 2 classes.\n"
     ]
    }
   ],
   "source": [
    "# get all the data in the directory split/test (180 images), and reshape them\n",
    "test_generator = ImageDataGenerator(rescale=1./255).flow_from_directory(\n",
    "        test_folder, \n",
    "        target_size=(64, 64), batch_size = 180) \n",
    "\n",
    "# get all the data in the directory split/validation (200 images), and reshape them\n",
    "val_generator = ImageDataGenerator(rescale=1./255).flow_from_directory(\n",
    "        val_folder, \n",
    "        target_size=(64, 64), batch_size = 200)\n",
    "\n",
    "# get all the data in the directory split/train (542 images), and reshape them\n",
    "train_generator = ImageDataGenerator(rescale=1./255).flow_from_directory(\n",
    "        train_folder, \n",
    "        target_size=(64, 64), batch_size=542)"
   ]
  },
  {
   "cell_type": "code",
   "execution_count": 29,
   "metadata": {},
   "outputs": [],
   "source": [
    "# create the data sets\n",
    "train_images, train_labels = next(train_generator)\n",
    "test_images, test_labels = next(test_generator)\n",
    "val_images, val_labels = next(val_generator)"
   ]
  },
  {
   "cell_type": "code",
   "execution_count": 30,
   "metadata": {},
   "outputs": [
    {
     "name": "stdout",
     "output_type": "stream",
     "text": [
      "Number of training samples: 542\n",
      "Number of testing samples: 180\n",
      "Number of validation samples: 200\n",
      "train_images shape: (542, 64, 64, 3)\n",
      "train_labels shape: (542, 2)\n",
      "test_images shape: (180, 64, 64, 3)\n",
      "test_labels shape: (180, 2)\n",
      "val_images shape: (200, 64, 64, 3)\n",
      "val_labels shape: (200, 2)\n"
     ]
    }
   ],
   "source": [
    "# Explore your dataset again\n",
    "m_train = train_images.shape[0]\n",
    "num_px = train_images.shape[1]\n",
    "m_test = test_images.shape[0]\n",
    "m_val = val_images.shape[0]\n",
    "\n",
    "print (\"Number of training samples: \" + str(m_train))\n",
    "print (\"Number of testing samples: \" + str(m_test))\n",
    "print (\"Number of validation samples: \" + str(m_val))\n",
    "print (\"train_images shape: \" + str(train_images.shape))\n",
    "print (\"train_labels shape: \" + str(train_labels.shape))\n",
    "print (\"test_images shape: \" + str(test_images.shape))\n",
    "print (\"test_labels shape: \" + str(test_labels.shape))\n",
    "print (\"val_images shape: \" + str(val_images.shape))\n",
    "print (\"val_labels shape: \" + str(val_labels.shape))"
   ]
  },
  {
   "cell_type": "code",
   "execution_count": 31,
   "metadata": {},
   "outputs": [
    {
     "name": "stdout",
     "output_type": "stream",
     "text": [
      "(542, 12288)\n",
      "(180, 12288)\n",
      "(200, 12288)\n"
     ]
    }
   ],
   "source": [
    "train_img = train_images.reshape(train_images.shape[0], -1)\n",
    "test_img = test_images.reshape(test_images.shape[0], -1)\n",
    "val_img = val_images.reshape(val_images.shape[0], -1)\n",
    "\n",
    "print(train_img.shape)\n",
    "print(test_img.shape)\n",
    "print(val_img.shape)"
   ]
  },
  {
   "cell_type": "code",
   "execution_count": 32,
   "metadata": {},
   "outputs": [],
   "source": [
    "train_y = np.reshape(train_labels[:,0], (542,1))\n",
    "test_y = np.reshape(test_labels[:,0], (180,1))\n",
    "val_y = np.reshape(val_labels[:,0], (200,1))"
   ]
  },
  {
   "cell_type": "code",
   "execution_count": 33,
   "metadata": {},
   "outputs": [],
   "source": [
    "from keras import models\n",
    "from keras import layers\n",
    "np.random.seed(123)\n",
    "model = models.Sequential()\n",
    "model.add(layers.Dense(20, activation='relu', input_shape=(12288,))) #2 hidden layers\n",
    "model.add(layers.Dense(7, activation='relu'))\n",
    "model.add(layers.Dense(5, activation='relu'))\n",
    "model.add(layers.Dense(1, activation='sigmoid'))"
   ]
  },
  {
   "cell_type": "code",
   "execution_count": 34,
   "metadata": {},
   "outputs": [
    {
     "name": "stdout",
     "output_type": "stream",
     "text": [
      "Train on 542 samples, validate on 200 samples\n",
      "Epoch 1/50\n",
      "542/542 [==============================] - 0s 857us/step - loss: 0.7016 - acc: 0.5055 - val_loss: 0.6781 - val_acc: 0.4900\n",
      "Epoch 2/50\n",
      "542/542 [==============================] - 0s 363us/step - loss: 0.6810 - acc: 0.5111 - val_loss: 0.6697 - val_acc: 0.5050\n",
      "Epoch 3/50\n",
      "542/542 [==============================] - 0s 273us/step - loss: 0.6733 - acc: 0.5314 - val_loss: 0.6652 - val_acc: 0.5700\n",
      "Epoch 4/50\n",
      "542/542 [==============================] - 0s 282us/step - loss: 0.6654 - acc: 0.5775 - val_loss: 0.6558 - val_acc: 0.5100\n",
      "Epoch 5/50\n",
      "542/542 [==============================] - 0s 307us/step - loss: 0.6527 - acc: 0.6089 - val_loss: 0.6429 - val_acc: 0.5100\n",
      "Epoch 6/50\n",
      "542/542 [==============================] - 0s 300us/step - loss: 0.6374 - acc: 0.5923 - val_loss: 0.6386 - val_acc: 0.5850\n",
      "Epoch 7/50\n",
      "542/542 [==============================] - 0s 268us/step - loss: 0.6184 - acc: 0.6273 - val_loss: 0.6228 - val_acc: 0.7000\n",
      "Epoch 8/50\n",
      "542/542 [==============================] - 0s 283us/step - loss: 0.6065 - acc: 0.6734 - val_loss: 0.6085 - val_acc: 0.6600\n",
      "Epoch 9/50\n",
      "542/542 [==============================] - 0s 305us/step - loss: 0.6070 - acc: 0.6679 - val_loss: 0.5966 - val_acc: 0.6700\n",
      "Epoch 10/50\n",
      "542/542 [==============================] - 0s 309us/step - loss: 0.5821 - acc: 0.6863 - val_loss: 0.5866 - val_acc: 0.6800\n",
      "Epoch 11/50\n",
      "542/542 [==============================] - 0s 272us/step - loss: 0.5630 - acc: 0.7325 - val_loss: 0.5752 - val_acc: 0.6600\n",
      "Epoch 12/50\n",
      "542/542 [==============================] - 0s 253us/step - loss: 0.5463 - acc: 0.7435 - val_loss: 0.5464 - val_acc: 0.6800\n",
      "Epoch 13/50\n",
      "542/542 [==============================] - 0s 247us/step - loss: 0.5153 - acc: 0.7509 - val_loss: 0.5322 - val_acc: 0.7200\n",
      "Epoch 14/50\n",
      "542/542 [==============================] - 0s 261us/step - loss: 0.5387 - acc: 0.7362 - val_loss: 0.5891 - val_acc: 0.6750\n",
      "Epoch 15/50\n",
      "542/542 [==============================] - 0s 295us/step - loss: 0.5395 - acc: 0.7362 - val_loss: 0.6176 - val_acc: 0.6450\n",
      "Epoch 16/50\n",
      "542/542 [==============================] - 0s 281us/step - loss: 0.4529 - acc: 0.8155 - val_loss: 0.5382 - val_acc: 0.7050\n",
      "Epoch 17/50\n",
      "542/542 [==============================] - 0s 314us/step - loss: 0.4508 - acc: 0.8044 - val_loss: 0.4879 - val_acc: 0.8050\n",
      "Epoch 18/50\n",
      "542/542 [==============================] - 0s 275us/step - loss: 0.5340 - acc: 0.7343 - val_loss: 0.6959 - val_acc: 0.6200\n",
      "Epoch 19/50\n",
      "542/542 [==============================] - 0s 250us/step - loss: 0.4439 - acc: 0.8007 - val_loss: 0.4912 - val_acc: 0.7700\n",
      "Epoch 20/50\n",
      "542/542 [==============================] - 0s 265us/step - loss: 0.4543 - acc: 0.7860 - val_loss: 0.6116 - val_acc: 0.6900\n",
      "Epoch 21/50\n",
      "542/542 [==============================] - 0s 302us/step - loss: 0.3909 - acc: 0.8376 - val_loss: 0.5616 - val_acc: 0.6800\n",
      "Epoch 22/50\n",
      "542/542 [==============================] - 0s 297us/step - loss: 0.3739 - acc: 0.8376 - val_loss: 0.4633 - val_acc: 0.8150\n",
      "Epoch 23/50\n",
      "542/542 [==============================] - 0s 311us/step - loss: 0.3931 - acc: 0.8137 - val_loss: 0.4706 - val_acc: 0.7900\n",
      "Epoch 24/50\n",
      "542/542 [==============================] - 0s 279us/step - loss: 0.3873 - acc: 0.8247 - val_loss: 0.5792 - val_acc: 0.7000\n",
      "Epoch 25/50\n",
      "542/542 [==============================] - 0s 238us/step - loss: 0.4161 - acc: 0.8100 - val_loss: 0.5278 - val_acc: 0.7200\n",
      "Epoch 26/50\n",
      "542/542 [==============================] - 0s 277us/step - loss: 0.3146 - acc: 0.8764 - val_loss: 0.4614 - val_acc: 0.8050\n",
      "Epoch 27/50\n",
      "542/542 [==============================] - 0s 311us/step - loss: 0.3163 - acc: 0.8616 - val_loss: 0.4855 - val_acc: 0.7900\n",
      "Epoch 28/50\n",
      "542/542 [==============================] - 0s 279us/step - loss: 0.3728 - acc: 0.8303 - val_loss: 1.2289 - val_acc: 0.5800\n",
      "Epoch 29/50\n",
      "542/542 [==============================] - 0s 299us/step - loss: 0.3796 - acc: 0.8469 - val_loss: 0.6517 - val_acc: 0.7000\n",
      "Epoch 30/50\n",
      "542/542 [==============================] - 0s 281us/step - loss: 0.2910 - acc: 0.8819 - val_loss: 0.8052 - val_acc: 0.6550\n",
      "Epoch 31/50\n",
      "542/542 [==============================] - 0s 284us/step - loss: 0.3631 - acc: 0.8432 - val_loss: 0.4530 - val_acc: 0.8150\n",
      "Epoch 32/50\n",
      "542/542 [==============================] - 0s 291us/step - loss: 0.3826 - acc: 0.8339 - val_loss: 0.4491 - val_acc: 0.8050\n",
      "Epoch 33/50\n",
      "542/542 [==============================] - 0s 292us/step - loss: 0.2310 - acc: 0.9280 - val_loss: 0.4863 - val_acc: 0.7750\n",
      "Epoch 34/50\n",
      "542/542 [==============================] - 0s 299us/step - loss: 0.2389 - acc: 0.9133 - val_loss: 0.6508 - val_acc: 0.6950\n",
      "Epoch 35/50\n",
      "542/542 [==============================] - 0s 293us/step - loss: 0.2937 - acc: 0.8727 - val_loss: 0.5162 - val_acc: 0.7500\n",
      "Epoch 36/50\n",
      "542/542 [==============================] - 0s 280us/step - loss: 0.2687 - acc: 0.8967 - val_loss: 0.4427 - val_acc: 0.8400\n",
      "Epoch 37/50\n",
      "542/542 [==============================] - 0s 278us/step - loss: 0.4010 - acc: 0.8450 - val_loss: 0.4652 - val_acc: 0.8050\n",
      "Epoch 38/50\n",
      "542/542 [==============================] - 0s 254us/step - loss: 0.2125 - acc: 0.9280 - val_loss: 0.6357 - val_acc: 0.6950\n",
      "Epoch 39/50\n",
      "542/542 [==============================] - 0s 244us/step - loss: 0.2388 - acc: 0.9151 - val_loss: 0.4657 - val_acc: 0.8200\n",
      "Epoch 40/50\n",
      "542/542 [==============================] - 0s 248us/step - loss: 0.2046 - acc: 0.9299 - val_loss: 0.4920 - val_acc: 0.8000\n",
      "Epoch 41/50\n",
      "542/542 [==============================] - 0s 288us/step - loss: 0.2453 - acc: 0.9133 - val_loss: 0.4518 - val_acc: 0.8150\n",
      "Epoch 42/50\n",
      "542/542 [==============================] - 0s 280us/step - loss: 0.1989 - acc: 0.9299 - val_loss: 0.4896 - val_acc: 0.8100\n",
      "Epoch 43/50\n",
      "542/542 [==============================] - 0s 275us/step - loss: 0.1775 - acc: 0.9391 - val_loss: 0.5892 - val_acc: 0.7500\n",
      "Epoch 44/50\n",
      "542/542 [==============================] - 0s 279us/step - loss: 0.2939 - acc: 0.8764 - val_loss: 0.5005 - val_acc: 0.7850\n",
      "Epoch 45/50\n",
      "542/542 [==============================] - 0s 279us/step - loss: 0.3766 - acc: 0.8727 - val_loss: 0.4555 - val_acc: 0.8150\n",
      "Epoch 46/50\n",
      "542/542 [==============================] - 0s 302us/step - loss: 0.3391 - acc: 0.8284 - val_loss: 0.4815 - val_acc: 0.8100\n",
      "Epoch 47/50\n",
      "542/542 [==============================] - 0s 277us/step - loss: 0.2406 - acc: 0.9151 - val_loss: 0.4440 - val_acc: 0.8100\n",
      "Epoch 48/50\n",
      "542/542 [==============================] - 0s 284us/step - loss: 0.1689 - acc: 0.9631 - val_loss: 0.5675 - val_acc: 0.7700\n",
      "Epoch 49/50\n",
      "542/542 [==============================] - 0s 314us/step - loss: 0.2939 - acc: 0.8875 - val_loss: 0.4729 - val_acc: 0.8050\n",
      "Epoch 50/50\n",
      "542/542 [==============================] - 0s 342us/step - loss: 0.1700 - acc: 0.9502 - val_loss: 0.4691 - val_acc: 0.8200\n"
     ]
    }
   ],
   "source": [
    "model.compile(optimizer='sgd',\n",
    "              loss='binary_crossentropy',\n",
    "              metrics=['accuracy'])\n",
    "\n",
    "histoire = model.fit(train_img,\n",
    "                    train_y,\n",
    "                    epochs=50,\n",
    "                    batch_size=32,\n",
    "                    validation_data=(val_img, val_y))"
   ]
  },
  {
   "cell_type": "code",
   "execution_count": 35,
   "metadata": {},
   "outputs": [
    {
     "name": "stdout",
     "output_type": "stream",
     "text": [
      "542/542 [==============================] - 0s 106us/step\n"
     ]
    }
   ],
   "source": [
    "results_train = model.evaluate(train_img, train_y)"
   ]
  },
  {
   "cell_type": "code",
   "execution_count": 36,
   "metadata": {},
   "outputs": [
    {
     "name": "stdout",
     "output_type": "stream",
     "text": [
      "180/180 [==============================] - 0s 151us/step\n"
     ]
    }
   ],
   "source": [
    "results_test = model.evaluate(test_img, test_y)"
   ]
  },
  {
   "cell_type": "code",
   "execution_count": 37,
   "metadata": {},
   "outputs": [
    {
     "data": {
      "text/plain": [
       "[0.13092327788747105, 0.9704797050169913]"
      ]
     },
     "execution_count": 37,
     "metadata": {},
     "output_type": "execute_result"
    }
   ],
   "source": [
    "results_train"
   ]
  },
  {
   "cell_type": "code",
   "execution_count": 38,
   "metadata": {},
   "outputs": [
    {
     "data": {
      "text/plain": [
       "[0.520803431669871, 0.7666666666666667]"
      ]
     },
     "execution_count": 38,
     "metadata": {},
     "output_type": "execute_result"
    }
   ],
   "source": [
    "results_test"
   ]
  },
  {
   "cell_type": "markdown",
   "metadata": {},
   "source": [
    "Remember that, in our lab on \"building deeper neural networks from scratch, we got to a train set prediction was 95%, and a test set prediction of 74.23%."
   ]
  },
  {
   "cell_type": "markdown",
   "metadata": {},
   "source": [
    "This result is similar to what we got building our manual \"deeper\" dense model. The results are not entirely different. This is not a surprise!\n",
    "- Before, we only had a training and a validation set (which was at the same time the test set). Now we have split up the data 3-ways.\n",
    "- We didn't use minibatches before, yet we used mini-batches of 32 units here.\n"
   ]
  },
  {
   "cell_type": "markdown",
   "metadata": {},
   "source": [
    "# 3. Convnet"
   ]
  },
  {
   "cell_type": "code",
   "execution_count": 53,
   "metadata": {},
   "outputs": [],
   "source": [
    "model = models.Sequential()\n",
    "model.add(layers.Conv2D(32, (3, 3), activation='relu',\n",
    "                        input_shape=(64 ,64,  3)))\n",
    "model.add(layers.MaxPooling2D((2, 2)))\n",
    "\n",
    "model.add(layers.Conv2D(32, (4, 4), activation='relu'))\n",
    "model.add(layers.MaxPooling2D((2, 2)))\n",
    "\n",
    "model.add(layers.Conv2D(64, (3, 3), activation='relu'))\n",
    "model.add(layers.MaxPooling2D((2, 2)))\n",
    "\n",
    "model.add(layers.Flatten())\n",
    "model.add(layers.Dense(64, activation='relu'))\n",
    "model.add(layers.Dense(1, activation='sigmoid'))\n",
    "\n",
    "model.compile(loss='binary_crossentropy',\n",
    "              optimizer=\"sgd\",\n",
    "              metrics=['acc'])"
   ]
  },
  {
   "cell_type": "code",
   "execution_count": null,
   "metadata": {},
   "outputs": [
    {
     "name": "stdout",
     "output_type": "stream",
     "text": [
      "Train on 542 samples, validate on 200 samples\n",
      "Epoch 1/30\n",
      "542/542 [==============================] - 5s 9ms/step - loss: 0.6900 - acc: 0.5646 - val_loss: 0.6806 - val_acc: 0.5300\n",
      "Epoch 2/30\n",
      "542/542 [==============================] - 5s 8ms/step - loss: 0.6782 - acc: 0.5203 - val_loss: 0.6696 - val_acc: 0.5050\n",
      "Epoch 3/30\n",
      "542/542 [==============================] - 5s 9ms/step - loss: 0.6695 - acc: 0.5018 - val_loss: 0.6611 - val_acc: 0.5050\n",
      "Epoch 4/30\n",
      "542/542 [==============================] - 5s 8ms/step - loss: 0.6617 - acc: 0.5074 - val_loss: 0.6524 - val_acc: 0.5050\n",
      "Epoch 5/30\n",
      "542/542 [==============================] - 4s 8ms/step - loss: 0.6527 - acc: 0.5185 - val_loss: 0.6429 - val_acc: 0.5550\n",
      "Epoch 6/30\n",
      "542/542 [==============================] - 4s 8ms/step - loss: 0.6418 - acc: 0.5572 - val_loss: 0.6299 - val_acc: 0.5550\n",
      "Epoch 7/30\n",
      "542/542 [==============================] - 5s 9ms/step - loss: 0.6294 - acc: 0.5867 - val_loss: 0.6178 - val_acc: 0.7650\n",
      "Epoch 8/30\n",
      "542/542 [==============================] - 5s 9ms/step - loss: 0.6139 - acc: 0.7214 - val_loss: 0.5994 - val_acc: 0.5700\n",
      "Epoch 9/30\n",
      "542/542 [==============================] - 5s 9ms/step - loss: 0.5934 - acc: 0.7362 - val_loss: 0.5738 - val_acc: 0.7350\n",
      "Epoch 10/30\n",
      "542/542 [==============================] - 5s 9ms/step - loss: 0.5656 - acc: 0.7804 - val_loss: 0.5480 - val_acc: 0.7650\n",
      "Epoch 11/30\n",
      "542/542 [==============================] - 5s 9ms/step - loss: 0.5371 - acc: 0.8321 - val_loss: 0.5352 - val_acc: 0.6950\n",
      "Epoch 12/30\n",
      "542/542 [==============================] - 4s 8ms/step - loss: 0.5133 - acc: 0.8247 - val_loss: 0.4975 - val_acc: 0.8350\n",
      "Epoch 13/30\n",
      "542/542 [==============================] - 5s 9ms/step - loss: 0.4687 - acc: 0.8413 - val_loss: 0.4414 - val_acc: 0.8850\n",
      "Epoch 14/30\n",
      "542/542 [==============================] - 6s 10ms/step - loss: 0.4452 - acc: 0.8413 - val_loss: 0.5096 - val_acc: 0.7350\n",
      "Epoch 15/30\n",
      "542/542 [==============================] - 5s 9ms/step - loss: 0.4346 - acc: 0.8155 - val_loss: 0.3783 - val_acc: 0.9000\n",
      "Epoch 16/30\n",
      "542/542 [==============================] - 6s 10ms/step - loss: 0.4240 - acc: 0.8210 - val_loss: 0.3801 - val_acc: 0.8850\n",
      "Epoch 17/30\n",
      "542/542 [==============================] - 5s 9ms/step - loss: 0.3746 - acc: 0.8764 - val_loss: 0.3432 - val_acc: 0.8900\n",
      "Epoch 18/30\n",
      "542/542 [==============================] - 5s 8ms/step - loss: 0.4004 - acc: 0.8247 - val_loss: 0.3365 - val_acc: 0.9050\n",
      "Epoch 19/30\n",
      "224/542 [===========>..................] - ETA: 2s - loss: 0.3590 - acc: 0.8571"
     ]
    }
   ],
   "source": [
    "history = model.fit(train_images,\n",
    "                    train_y,\n",
    "                    epochs=30,\n",
    "                    batch_size=32,\n",
    "                    validation_data=(val_images, val_y))"
   ]
  },
  {
   "cell_type": "code",
   "execution_count": 41,
   "metadata": {},
   "outputs": [
    {
     "name": "stdout",
     "output_type": "stream",
     "text": [
      "542/542 [==============================] - 2s 3ms/step\n"
     ]
    }
   ],
   "source": [
    "results_train = model.evaluate(train_images, train_y)"
   ]
  },
  {
   "cell_type": "code",
   "execution_count": 42,
   "metadata": {},
   "outputs": [
    {
     "name": "stdout",
     "output_type": "stream",
     "text": [
      "180/180 [==============================] - 1s 3ms/step\n"
     ]
    }
   ],
   "source": [
    "results_test = model.evaluate(test_images, test_y)"
   ]
  },
  {
   "cell_type": "code",
   "execution_count": 43,
   "metadata": {},
   "outputs": [
    {
     "data": {
      "text/plain": [
       "[0.24520404653355643, 0.9261992604530166]"
      ]
     },
     "execution_count": 43,
     "metadata": {},
     "output_type": "execute_result"
    }
   ],
   "source": [
    "results_train"
   ]
  },
  {
   "cell_type": "code",
   "execution_count": 44,
   "metadata": {},
   "outputs": [
    {
     "data": {
      "text/plain": [
       "[0.32861035002602473, 0.8888888862397936]"
      ]
     },
     "execution_count": 44,
     "metadata": {},
     "output_type": "execute_result"
    }
   ],
   "source": [
    "results_test"
   ]
  },
  {
   "cell_type": "markdown",
   "metadata": {},
   "source": [
    "# Data augmentation"
   ]
  },
  {
   "cell_type": "markdown",
   "metadata": {},
   "source": [
    "ImageDataGenerator becomes really useful when we *actually* want to generate more data. We'll show you how this works."
   ]
  },
  {
   "cell_type": "code",
   "execution_count": 45,
   "metadata": {},
   "outputs": [],
   "source": [
    "train_datagen= ImageDataGenerator(rescale=1./255, \n",
    "     rotation_range=40,\n",
    "     width_shift_range=0.2,\n",
    "     height_shift_range=0.2,\n",
    "     shear_range=0.3,\n",
    "     zoom_range=0.1,\n",
    "     horizontal_flip = False)"
   ]
  },
  {
   "cell_type": "code",
   "execution_count": 46,
   "metadata": {},
   "outputs": [
    {
     "data": {
      "image/png": "[encoded data removed]",
      "text/plain": [
       "<matplotlib.figure.Figure at 0x181e91e4a8>"
      ]
     },
     "metadata": {},
     "output_type": "display_data"
    },
    {
     "data": {
      "image/png": "[encoded data removed]",
      "text/plain": [
       "<matplotlib.figure.Figure at 0x181e909c50>"
      ]
     },
     "metadata": {},
     "output_type": "display_data"
    },
    {
     "data": {
      "image/png": "[encoded data removed]",
      "text/plain": [
       "<matplotlib.figure.Figure at 0x181e8b3b38>"
      ]
     },
     "metadata": {},
     "output_type": "display_data"
    }
   ],
   "source": [
    "names = [os.path.join(train_santa, name) for name in os.listdir(train_santa)]\n",
    "img_path = names[91]\n",
    "img = load_img(img_path, target_size=(64, 64))\n",
    "\n",
    "reshape_img = img_to_array(img) \n",
    "reshape_img = reshape_img.reshape((1,) + reshape_img.shape) \n",
    "i=0\n",
    "for batch in train_datagen.flow(reshape_img, batch_size=1):\n",
    "    plt.figure(i)\n",
    "    imgplot = plt.imshow(array_to_img(batch[0]))\n",
    "    i += 1\n",
    "    if i % 3 == 0:\n",
    "        break\n",
    "plt.show()"
   ]
  },
  {
   "cell_type": "code",
   "execution_count": 47,
   "metadata": {},
   "outputs": [
    {
     "name": "stdout",
     "output_type": "stream",
     "text": [
      "Found 180 images belonging to 2 classes.\n",
      "Found 200 images belonging to 2 classes.\n",
      "Found 542 images belonging to 2 classes.\n"
     ]
    }
   ],
   "source": [
    "# get all the data in the directory split/test (180 images), and reshape them\n",
    "test_generator = ImageDataGenerator(rescale=1./255).flow_from_directory(\n",
    "        test_folder, \n",
    "        target_size=(64, 64), \n",
    "        batch_size = 180,\n",
    "        class_mode='binary') \n",
    "\n",
    "# get all the data in the directory split/validation (200 images), and reshape them\n",
    "val_generator = ImageDataGenerator(rescale=1./255).flow_from_directory(\n",
    "        val_folder, \n",
    "        target_size=(64, 64),\n",
    "        batch_size = 32,\n",
    "        class_mode='binary')\n",
    "\n",
    "# get all the data in the directory split/train (542 images), and reshape them\n",
    "train_generator = train_datagen.flow_from_directory(\n",
    "        train_folder, \n",
    "        target_size=(64, 64), \n",
    "        batch_size = 32, \n",
    "        class_mode='binary')"
   ]
  },
  {
   "cell_type": "code",
   "execution_count": 48,
   "metadata": {},
   "outputs": [],
   "source": [
    "model = models.Sequential()\n",
    "model.add(layers.Conv2D(32, (3, 3), activation='relu',\n",
    "                        input_shape=(64 ,64,  3)))\n",
    "model.add(layers.MaxPooling2D((2, 2)))\n",
    "\n",
    "model.add(layers.Conv2D(32, (4, 4), activation='relu'))\n",
    "model.add(layers.MaxPooling2D((2, 2)))\n",
    "\n",
    "model.add(layers.Conv2D(64, (3, 3), activation='relu'))\n",
    "model.add(layers.MaxPooling2D((2, 2)))\n",
    "\n",
    "model.add(layers.Flatten())\n",
    "model.add(layers.Dense(64, activation='relu'))\n",
    "model.add(layers.Dense(1, activation='sigmoid'))\n",
    "\n",
    "model.compile(loss='binary_crossentropy',\n",
    "              optimizer= 'sgd',\n",
    "              metrics=['acc'])"
   ]
  },
  {
   "cell_type": "code",
   "execution_count": 49,
   "metadata": {},
   "outputs": [
    {
     "name": "stdout",
     "output_type": "stream",
     "text": [
      "Epoch 1/30\n",
      "25/25 [==============================] - 47s 2s/step - loss: 0.6828 - acc: 0.5099 - val_loss: 0.6678 - val_acc: 0.4904\n",
      "Epoch 2/30\n",
      "25/25 [==============================] - 38s 2s/step - loss: 0.6681 - acc: 0.5013 - val_loss: 0.6523 - val_acc: 0.4973\n",
      "Epoch 3/30\n",
      "25/25 [==============================] - 43s 2s/step - loss: 0.6566 - acc: 0.5152 - val_loss: 0.6365 - val_acc: 0.5632\n",
      "Epoch 4/30\n",
      "25/25 [==============================] - 35s 1s/step - loss: 0.6370 - acc: 0.5855 - val_loss: 0.6078 - val_acc: 0.5948\n",
      "Epoch 5/30\n",
      "25/25 [==============================] - 40s 2s/step - loss: 0.6118 - acc: 0.6950 - val_loss: 0.5756 - val_acc: 0.7967\n",
      "Epoch 6/30\n",
      "25/25 [==============================] - 38s 2s/step - loss: 0.5809 - acc: 0.7869 - val_loss: 0.5289 - val_acc: 0.7926\n",
      "Epoch 7/30\n",
      "25/25 [==============================] - 46s 2s/step - loss: 0.5373 - acc: 0.8018 - val_loss: 0.4731 - val_acc: 0.8805\n",
      "Epoch 8/30\n",
      "25/25 [==============================] - 40s 2s/step - loss: 0.5184 - acc: 0.8032 - val_loss: 0.4340 - val_acc: 0.8984\n",
      "Epoch 9/30\n",
      "25/25 [==============================] - 47s 2s/step - loss: 0.4871 - acc: 0.7958 - val_loss: 0.4265 - val_acc: 0.8365\n",
      "Epoch 10/30\n",
      "25/25 [==============================] - 40s 2s/step - loss: 0.4355 - acc: 0.8285 - val_loss: 0.3895 - val_acc: 0.8901\n",
      "Epoch 11/30\n",
      "25/25 [==============================] - 43s 2s/step - loss: 0.4384 - acc: 0.8230 - val_loss: 0.3307 - val_acc: 0.9093\n",
      "Epoch 12/30\n",
      "25/25 [==============================] - 41s 2s/step - loss: 0.3854 - acc: 0.8522 - val_loss: 0.5457 - val_acc: 0.7473\n",
      "Epoch 13/30\n",
      "25/25 [==============================] - 48s 2s/step - loss: 0.4151 - acc: 0.8421 - val_loss: 0.4304 - val_acc: 0.8420\n",
      "Epoch 14/30\n",
      "25/25 [==============================] - 43s 2s/step - loss: 0.3417 - acc: 0.8730 - val_loss: 0.2796 - val_acc: 0.9341\n",
      "Epoch 15/30\n",
      "25/25 [==============================] - 43s 2s/step - loss: 0.3332 - acc: 0.8622 - val_loss: 0.2628 - val_acc: 0.9203\n",
      "Epoch 16/30\n",
      "25/25 [==============================] - 37s 1s/step - loss: 0.3147 - acc: 0.8698 - val_loss: 0.2565 - val_acc: 0.9286\n",
      "Epoch 17/30\n",
      "25/25 [==============================] - 46s 2s/step - loss: 0.2965 - acc: 0.8822 - val_loss: 0.2809 - val_acc: 0.9341\n",
      "Epoch 18/30\n",
      "25/25 [==============================] - 39s 2s/step - loss: 0.2502 - acc: 0.9099 - val_loss: 0.2483 - val_acc: 0.8901\n",
      "Epoch 19/30\n",
      "25/25 [==============================] - 41s 2s/step - loss: 0.2644 - acc: 0.9011 - val_loss: 0.2396 - val_acc: 0.9203\n",
      "Epoch 20/30\n",
      "25/25 [==============================] - 44s 2s/step - loss: 0.2912 - acc: 0.8884 - val_loss: 0.2651 - val_acc: 0.9354\n",
      "Epoch 21/30\n",
      "25/25 [==============================] - 42s 2s/step - loss: 0.2298 - acc: 0.9107 - val_loss: 0.2055 - val_acc: 0.9409\n",
      "Epoch 22/30\n",
      "25/25 [==============================] - 43s 2s/step - loss: 0.2369 - acc: 0.9135 - val_loss: 0.2149 - val_acc: 0.9258\n",
      "Epoch 23/30\n",
      "25/25 [==============================] - 41s 2s/step - loss: 0.2476 - acc: 0.8969 - val_loss: 0.2127 - val_acc: 0.9272\n",
      "Epoch 24/30\n",
      "25/25 [==============================] - 44s 2s/step - loss: 0.2499 - acc: 0.8997 - val_loss: 0.2159 - val_acc: 0.9327\n",
      "Epoch 25/30\n",
      "25/25 [==============================] - 40s 2s/step - loss: 0.1921 - acc: 0.9249 - val_loss: 0.2057 - val_acc: 0.9519\n",
      "Epoch 26/30\n",
      "25/25 [==============================] - 49s 2s/step - loss: 0.2284 - acc: 0.9098 - val_loss: 0.4885 - val_acc: 0.8407\n",
      "Epoch 27/30\n",
      "25/25 [==============================] - 42s 2s/step - loss: 0.2117 - acc: 0.9247 - val_loss: 0.2853 - val_acc: 0.9121\n",
      "Epoch 28/30\n",
      "25/25 [==============================] - 46s 2s/step - loss: 0.1994 - acc: 0.9258 - val_loss: 0.2232 - val_acc: 0.9423\n",
      "Epoch 29/30\n",
      "25/25 [==============================] - 39s 2s/step - loss: 0.2375 - acc: 0.9072 - val_loss: 0.4117 - val_acc: 0.8613\n",
      "Epoch 30/30\n",
      "25/25 [==============================] - 45s 2s/step - loss: 0.2131 - acc: 0.9087 - val_loss: 0.2573 - val_acc: 0.9258\n"
     ]
    }
   ],
   "source": [
    "history_2 = model.fit_generator(\n",
    "      train_generator,\n",
    "      steps_per_epoch=25,\n",
    "      epochs=30,\n",
    "      validation_data=val_generator,\n",
    "      validation_steps=25)"
   ]
  },
  {
   "cell_type": "code",
   "execution_count": 50,
   "metadata": {},
   "outputs": [],
   "source": [
    "test_x, test_y = next(test_generator)"
   ]
  },
  {
   "cell_type": "code",
   "execution_count": 51,
   "metadata": {},
   "outputs": [
    {
     "name": "stdout",
     "output_type": "stream",
     "text": [
      "180/180 [==============================] - 1s 3ms/step\n"
     ]
    }
   ],
   "source": [
    "results_test = model.evaluate(test_x, test_y)"
   ]
  },
  {
   "cell_type": "code",
   "execution_count": 52,
   "metadata": {},
   "outputs": [
    {
     "data": {
      "text/plain": [
       "[0.3374642458226946, 0.866666669315762]"
      ]
     },
     "execution_count": 52,
     "metadata": {},
     "output_type": "execute_result"
    }
   ],
   "source": [
    "results_test"
   ]
  },
  {
   "cell_type": "code",
   "execution_count": null,
   "metadata": {},
   "outputs": [],
   "source": []
  },
  {
   "cell_type": "code",
   "execution_count": null,
   "metadata": {},
   "outputs": [],
   "source": []
  }
 ],
 "metadata": {
  "kernelspec": {
   "display_name": "Python 3",
   "language": "python",
   "name": "python3"
  },
  "language_info": {
   "codemirror_mode": {
    "name": "ipython",
    "version": 3
   },
   "file_extension": ".py",
   "mimetype": "text/x-python",
   "name": "python",
   "nbconvert_exporter": "python",
   "pygments_lexer": "ipython3",
   "version": "3.6.4"
  }
 },
 "nbformat": 4,
 "nbformat_minor": 2
}
